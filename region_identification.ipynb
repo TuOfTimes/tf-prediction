{
 "cells": [
  {
   "cell_type": "markdown",
   "metadata": {},
   "source": [
    "# COMP 561 Final Project"
   ]
  },
  {
   "cell_type": "markdown",
   "metadata": {},
   "source": [
    "## Objectives\n",
    "1. Identifying a set of bound and non‐bound DNA sequences for a given TF based on existing experimental data.\n",
    "2. Calculating the DNA physical properties of each sequence.\n",
    "3. Training a machine learning classifier to distinguish between bound and unbound sites."
   ]
  },
  {
   "cell_type": "markdown",
   "metadata": {},
   "source": [
    "## 1. Identifiying bound/non-bound sequences"
   ]
  },
  {
   "cell_type": "code",
   "execution_count": 14,
   "metadata": {},
   "outputs": [],
   "source": [
    "# input file: set of genomic regions that are active regulatory regions in GM12878\n",
    "# a regulatory region is characterized by: chromosome #, start nt, end nt, ID (ex. chr2.3 is the 3rd site on chr2)\n",
    "reg_regions = []\n",
    "with open('data/wgEncodeRegTfbsClusteredV3.GM12878.merged.bed', 'r') as file:\n",
    "    for line in file:\n",
    "        reg_regions.append(line.rstrip().split('\\t'))"
   ]
  },
  {
   "cell_type": "code",
   "execution_count": 15,
   "metadata": {},
   "outputs": [
    {
     "data": {
      "text/plain": [
       "['chr1', '237550', '237989', 'chr1.1']"
      ]
     },
     "execution_count": 15,
     "metadata": {},
     "output_type": "execute_result"
    }
   ],
   "source": [
    "reg_regions[0]"
   ]
  },
  {
   "cell_type": "code",
   "execution_count": 22,
   "metadata": {},
   "outputs": [],
   "source": [
    "# input file: set of genomic coordinates of transcription factor binding sites for several transcription factors\n",
    "# binding_sites is all bound sequences\n",
    "binding_sites = []\n",
    "with open ('data/factorbookMotifPos.txt', 'r') as file:\n",
    "    for line in file:\n",
    "        binding_sites.append(line.rstrip().split('\\t')[1:])"
   ]
  },
  {
   "cell_type": "code",
   "execution_count": 23,
   "metadata": {},
   "outputs": [
    {
     "data": {
      "text/plain": [
       "['chr1', '10461', '10476', 'UA1', '2.02', '-']"
      ]
     },
     "execution_count": 23,
     "metadata": {},
     "output_type": "execute_result"
    }
   ],
   "source": [
    "binding_sites[0]"
   ]
  },
  {
   "cell_type": "code",
   "execution_count": null,
   "metadata": {},
   "outputs": [],
   "source": [
    "# difference between reg_regions and binding_sites is the set of non_binding_sites"
   ]
  }
 ],
 "metadata": {
  "kernelspec": {
   "display_name": "Python 3",
   "language": "python",
   "name": "python3"
  },
  "language_info": {
   "codemirror_mode": {
    "name": "ipython",
    "version": 3
   },
   "file_extension": ".py",
   "mimetype": "text/x-python",
   "name": "python",
   "nbconvert_exporter": "python",
   "pygments_lexer": "ipython3",
   "version": "3.6.7"
  }
 },
 "nbformat": 4,
 "nbformat_minor": 2
}
