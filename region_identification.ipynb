{
 "cells": [
  {
   "cell_type": "markdown",
   "metadata": {},
   "source": [
    "# COMP 561 Final Project"
   ]
  },
  {
   "cell_type": "markdown",
   "metadata": {},
   "source": [
    "## Objectives\n",
    "1. Identifying a set of bound and non‐bound DNA sequences for a given TF based on existing experimental data.\n",
    "2. Calculating the DNA physical properties of each sequence.\n",
    "3. Training a machine learning classifier to distinguish between bound and unbound sites."
   ]
  },
  {
   "cell_type": "markdown",
   "metadata": {},
   "source": [
    "## 1. Identifiying bound/non-bound sequences"
   ]
  },
  {
   "cell_type": "code",
   "execution_count": 43,
   "metadata": {},
   "outputs": [],
   "source": [
    "# input file: set of genomic regions that are active regulatory regions in GM12878\n",
    "# a regulatory region is characterized by: chromosome #, start nt, end nt, ID (ex. chr2.3 is the 3rd site on chr2)\n",
    "reg_regions = []\n",
    "with open('data/wgEncodeRegTfbsClusteredV3.GM12878.merged.bed', 'r') as file:\n",
    "    for line in file:\n",
    "        reg_regions.append(line.rstrip().split('\\t'))"
   ]
  },
  {
   "cell_type": "code",
   "execution_count": 50,
   "metadata": {},
   "outputs": [
    {
     "data": {
      "text/plain": [
       "['chr1', '237550', '237989', 'chr1.1']"
      ]
     },
     "execution_count": 50,
     "metadata": {},
     "output_type": "execute_result"
    }
   ],
   "source": [
    "reg_regions[0]\n",
    "# len(reg_regions)"
   ]
  },
  {
   "cell_type": "code",
   "execution_count": 46,
   "metadata": {},
   "outputs": [],
   "source": [
    "# input file: set of genomic coordinates of transcription factor binding sites for several transcription factors\n",
    "# binding_sites is all bound sequences\n",
    "binding_sites = []\n",
    "with open ('data/factorbookMotifPos.txt', 'r') as file:\n",
    "    for line in file:\n",
    "        binding_sites.append(line.rstrip().split('\\t')[1:])"
   ]
  },
  {
   "cell_type": "code",
   "execution_count": 49,
   "metadata": {
    "scrolled": true
   },
   "outputs": [
    {
     "data": {
      "text/plain": [
       "['chr1', '237749', '237764', 'CTCF', '2.25', '+']"
      ]
     },
     "execution_count": 49,
     "metadata": {},
     "output_type": "execute_result"
    }
   ],
   "source": [
    "binding_sites[12]\n",
    "# len(binding_sites)"
   ]
  },
  {
   "cell_type": "code",
   "execution_count": 55,
   "metadata": {},
   "outputs": [],
   "source": [
    "# regions that contain a binding site are bound. those that don't are non-bound\n",
    "# non_binding = []\n",
    "\n",
    "# reg_index = 0\n",
    "# binding_index = 0\n",
    "\n",
    "# while reg_index < len(reg_regions) and binding_index < len(binding_sites):\n",
    "#     while (binding_sites[binding_index][0] == reg_regions[reg_index][0] \n",
    "#            and int(binding_sites[binding_index][1]) < int(reg_regions[reg_index][1])):\n",
    "#         binding_index += 1\n",
    "#     if (binding_sites[binding_index][0] == reg_regions[reg_index][0] \n",
    "#            and (int(reg_regions[reg_index][1]) > int(binding_sites[binding_index][1]) \n",
    "#            or int(reg_regions[reg_index][2]) < int(binding_sites[binding_index][2]))):\n",
    "#         non_binding.append(reg_regions[reg_index])   \n",
    "#     reg_index += 1\n",
    "\n",
    "# if binding_index == len(binding_sites):\n",
    "#     non_binding.append(reg_regions[reg_index:])"
   ]
  },
  {
   "cell_type": "code",
   "execution_count": 65,
   "metadata": {},
   "outputs": [],
   "source": [
    "def isbinding(region, binding_sites):\n",
    "    for site in binding_sites:\n",
    "        if region[0] != site[0]:\n",
    "            continue\n",
    "        if int(site[1]) < int(region[1]):\n",
    "            continue\n",
    "        elif int(site[1]) > int(region[2]):\n",
    "            break;\n",
    "        elif int(site[1]) >= int(region[1]) and int(site[2]) <= int(region[2]):\n",
    "            return True;\n",
    "    return False"
   ]
  },
  {
   "cell_type": "code",
   "execution_count": 66,
   "metadata": {},
   "outputs": [
    {
     "name": "stdout",
     "output_type": "stream",
     "text": [
      "100\n",
      "200\n",
      "300\n",
      "400\n",
      "500\n",
      "600\n",
      "700\n",
      "800\n",
      "900\n",
      "1000\n",
      "1100\n",
      "1200\n",
      "1300\n",
      "1400\n",
      "1500\n",
      "1600\n",
      "1700\n",
      "1800\n",
      "1900\n",
      "2000\n"
     ]
    },
    {
     "ename": "KeyboardInterrupt",
     "evalue": "",
     "output_type": "error",
     "traceback": [
      "\u001b[0;31m---------------------------------------------------------------------------\u001b[0m",
      "\u001b[0;31mKeyboardInterrupt\u001b[0m                         Traceback (most recent call last)",
      "\u001b[0;32m<ipython-input-66-682f202aa114>\u001b[0m in \u001b[0;36m<module>\u001b[0;34m()\u001b[0m\n\u001b[1;32m      5\u001b[0m     \u001b[0;32mif\u001b[0m \u001b[0mk\u001b[0m\u001b[0;34m%\u001b[0m\u001b[0;36m100\u001b[0m \u001b[0;34m==\u001b[0m \u001b[0;36m0\u001b[0m\u001b[0;34m:\u001b[0m\u001b[0;34m\u001b[0m\u001b[0;34m\u001b[0m\u001b[0m\n\u001b[1;32m      6\u001b[0m         \u001b[0mprint\u001b[0m\u001b[0;34m(\u001b[0m\u001b[0mk\u001b[0m\u001b[0;34m)\u001b[0m\u001b[0;34m\u001b[0m\u001b[0;34m\u001b[0m\u001b[0m\n\u001b[0;32m----> 7\u001b[0;31m     \u001b[0;32mif\u001b[0m \u001b[0;32mnot\u001b[0m \u001b[0misbinding\u001b[0m\u001b[0;34m(\u001b[0m\u001b[0mi\u001b[0m\u001b[0;34m,\u001b[0m \u001b[0mbinding_sites\u001b[0m\u001b[0;34m)\u001b[0m\u001b[0;34m:\u001b[0m\u001b[0;34m\u001b[0m\u001b[0;34m\u001b[0m\u001b[0m\n\u001b[0m\u001b[1;32m      8\u001b[0m         \u001b[0mnon_binding\u001b[0m\u001b[0;34m.\u001b[0m\u001b[0mappend\u001b[0m\u001b[0;34m(\u001b[0m\u001b[0mi\u001b[0m\u001b[0;34m)\u001b[0m\u001b[0;34m\u001b[0m\u001b[0;34m\u001b[0m\u001b[0m\n",
      "\u001b[0;32m<ipython-input-65-cb35687e0238>\u001b[0m in \u001b[0;36misbinding\u001b[0;34m(region, binding_sites)\u001b[0m\n\u001b[1;32m      1\u001b[0m \u001b[0;32mdef\u001b[0m \u001b[0misbinding\u001b[0m\u001b[0;34m(\u001b[0m\u001b[0mregion\u001b[0m\u001b[0;34m,\u001b[0m \u001b[0mbinding_sites\u001b[0m\u001b[0;34m)\u001b[0m\u001b[0;34m:\u001b[0m\u001b[0;34m\u001b[0m\u001b[0;34m\u001b[0m\u001b[0m\n\u001b[1;32m      2\u001b[0m     \u001b[0;32mfor\u001b[0m \u001b[0msite\u001b[0m \u001b[0;32min\u001b[0m \u001b[0mbinding_sites\u001b[0m\u001b[0;34m:\u001b[0m\u001b[0;34m\u001b[0m\u001b[0;34m\u001b[0m\u001b[0m\n\u001b[0;32m----> 3\u001b[0;31m         \u001b[0;32mif\u001b[0m \u001b[0mregion\u001b[0m\u001b[0;34m[\u001b[0m\u001b[0;36m0\u001b[0m\u001b[0;34m]\u001b[0m \u001b[0;34m!=\u001b[0m \u001b[0msite\u001b[0m\u001b[0;34m[\u001b[0m\u001b[0;36m0\u001b[0m\u001b[0;34m]\u001b[0m\u001b[0;34m:\u001b[0m\u001b[0;34m\u001b[0m\u001b[0;34m\u001b[0m\u001b[0m\n\u001b[0m\u001b[1;32m      4\u001b[0m             \u001b[0;32mcontinue\u001b[0m\u001b[0;34m\u001b[0m\u001b[0;34m\u001b[0m\u001b[0m\n\u001b[1;32m      5\u001b[0m         \u001b[0;32mif\u001b[0m \u001b[0mint\u001b[0m\u001b[0;34m(\u001b[0m\u001b[0msite\u001b[0m\u001b[0;34m[\u001b[0m\u001b[0;36m1\u001b[0m\u001b[0;34m]\u001b[0m\u001b[0;34m)\u001b[0m \u001b[0;34m<\u001b[0m \u001b[0mint\u001b[0m\u001b[0;34m(\u001b[0m\u001b[0mregion\u001b[0m\u001b[0;34m[\u001b[0m\u001b[0;36m1\u001b[0m\u001b[0;34m]\u001b[0m\u001b[0;34m)\u001b[0m\u001b[0;34m:\u001b[0m\u001b[0;34m\u001b[0m\u001b[0;34m\u001b[0m\u001b[0m\n",
      "\u001b[0;31mKeyboardInterrupt\u001b[0m: "
     ]
    }
   ],
   "source": [
    "non_binding = []\n",
    "k=0\n",
    "for i in reg_regions:\n",
    "    k+=1\n",
    "    if k%100 == 0:\n",
    "        print(k)\n",
    "    if not isbinding(i, binding_sites):\n",
    "        non_binding.append(i)"
   ]
  },
  {
   "cell_type": "code",
   "execution_count": 68,
   "metadata": {},
   "outputs": [],
   "source": [
    "with open('data/non_binding_regions.txt', 'w') as f:\n",
    "    for region in non_binding:\n",
    "        f.write(region[0] + '\\t' + region[1] + '\\t' + region[2] + '\\t' + region[3] + '\\n')"
   ]
  }
 ],
 "metadata": {
  "kernelspec": {
   "display_name": "Python 3",
   "language": "python",
   "name": "python3"
  },
  "language_info": {
   "codemirror_mode": {
    "name": "ipython",
    "version": 3
   },
   "file_extension": ".py",
   "mimetype": "text/x-python",
   "name": "python",
   "nbconvert_exporter": "python",
   "pygments_lexer": "ipython3",
   "version": "3.6.7"
  }
 },
 "nbformat": 4,
 "nbformat_minor": 2
}
